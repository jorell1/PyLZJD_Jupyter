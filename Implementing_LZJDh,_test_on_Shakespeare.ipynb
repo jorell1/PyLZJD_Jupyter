{
  "nbformat": 4,
  "nbformat_minor": 0,
  "metadata": {
    "kernelspec": {
      "display_name": "Python 3",
      "language": "python",
      "name": "python3"
    },
    "language_info": {
      "codemirror_mode": {
        "name": "ipython",
        "version": 3
      },
      "file_extension": ".py",
      "mimetype": "text/x-python",
      "name": "python",
      "nbconvert_exporter": "python",
      "pygments_lexer": "ipython3",
      "version": "3.7.5"
    },
    "colab": {
      "name": "Implementing LZJDh, test on Shakespeare.ipynb",
      "provenance": [],
      "collapsed_sections": [],
      "include_colab_link": true
    }
  },
  "cells": [
    {
      "cell_type": "markdown",
      "metadata": {
        "id": "view-in-github",
        "colab_type": "text"
      },
      "source": [
        "<a href=\"https://colab.research.google.com/github/jorell1/PyLZJD_Jupyter/blob/master/Implementing_LZJDh%2C_test_on_Shakespeare.ipynb\" target=\"_parent\"><img src=\"https://colab.research.google.com/assets/colab-badge.svg\" alt=\"Open In Colab\"/></a>"
      ]
    },
    {
      "cell_type": "markdown",
      "metadata": {
        "id": "-5hglNgkMuJQ",
        "colab_type": "text"
      },
      "source": [
        "# Testing pyLZJD Clustering Shakespeare"
      ]
    },
    {
      "cell_type": "code",
      "metadata": {
        "id": "beQcLt5-WVXo",
        "colab_type": "code",
        "colab": {
          "base_uri": "https://localhost:8080/",
          "height": 105
        },
        "outputId": "2c807cdf-ef74-4f59-bb40-04dd6187943b"
      },
      "source": [
        "from google.colab import drive\n",
        "drive.mount(\"/content/drive\")\n",
        "!pip install git+git://github.com/EdwardRaff/pyLZJD#egg=pyLZJD"
      ],
      "execution_count": 25,
      "outputs": [
        {
          "output_type": "stream",
          "text": [
            "Drive already mounted at /content/drive; to attempt to forcibly remount, call drive.mount(\"/content/drive\", force_remount=True).\n",
            "Requirement already satisfied: pyLZJD from git+git://github.com/EdwardRaff/pyLZJD#egg=pyLZJD in /usr/local/lib/python3.6/dist-packages (0.0.2)\n",
            "Requirement already satisfied: numpy in /usr/local/lib/python3.6/dist-packages (from pyLZJD) (1.18.5)\n",
            "Requirement already satisfied: cython in /usr/local/lib/python3.6/dist-packages (from pyLZJD) (0.29.21)\n"
          ],
          "name": "stdout"
        }
      ]
    },
    {
      "cell_type": "code",
      "metadata": {
        "id": "Qhu27q75WihS",
        "colab_type": "code",
        "colab": {
          "base_uri": "https://localhost:8080/",
          "height": 275
        },
        "outputId": "baa4d237-55a7-4bce-8727-49540e761c2d"
      },
      "source": [
        "!ls drive/My\\ Drive/Colab\\ Notebooks/WS\n",
        "dataDir = \"drive/My Drive/Colab Notebooks/WS\"\n",
        "text_files = glob.glob(join(dataDir, \"*.txt\"))\n",
        "print(text_files)\n"
      ],
      "execution_count": 26,
      "outputs": [
        {
          "output_type": "stream",
          "text": [
            "AllsWell.txt\t    Henry8.txt\t\t  Richard2.txt\n",
            "AnthonyAndCleo.txt  JuliusCaesar.txt\t  Richard3.txt\n",
            "AsYouLikeIt.txt     KingJohn.txt\t  RomeoJuliet.txt\n",
            "ComedyOfErrors.txt  KingLear.txt\t  TamingShrew.txt\n",
            "Coriolanus.txt\t    LoveLabors.txt\t  Tempest.txt\n",
            "Cymbeline.txt\t    Macbeth.txt\t\t  Timon.txt\n",
            "Hamlet.txt\t    Measure4Measure.txt   TitusAndronicus.txt\n",
            "Henry4Part1.txt     MerchantOfVenice.txt  TroiluisCressida.txt\n",
            "Henry4Part2.txt     MerryWives.txt\t  TwelfthNight.txt\n",
            "Henry5.txt\t    MidsummerNights.txt   TwoGentlemenVerona.txt\n",
            "Henry6Part1.txt     MuchAdo.txt\t\t  WinterTale.txt\n",
            "Henry6Part2.txt     Othello.txt\n",
            "Henry6Part3.txt     Pericles.txt\n",
            "['drive/My Drive/Colab Notebooks/WS/AsYouLikeIt.txt', 'drive/My Drive/Colab Notebooks/WS/ComedyOfErrors.txt', 'drive/My Drive/Colab Notebooks/WS/Coriolanus.txt', 'drive/My Drive/Colab Notebooks/WS/Cymbeline.txt', 'drive/My Drive/Colab Notebooks/WS/Henry4Part1.txt', 'drive/My Drive/Colab Notebooks/WS/Henry4Part2.txt', 'drive/My Drive/Colab Notebooks/WS/Henry6Part1.txt', 'drive/My Drive/Colab Notebooks/WS/Henry6Part2.txt', 'drive/My Drive/Colab Notebooks/WS/Henry6Part3.txt', 'drive/My Drive/Colab Notebooks/WS/Henry8.txt', 'drive/My Drive/Colab Notebooks/WS/JuliusCaesar.txt', 'drive/My Drive/Colab Notebooks/WS/KingJohn.txt', 'drive/My Drive/Colab Notebooks/WS/KingLear.txt', 'drive/My Drive/Colab Notebooks/WS/LoveLabors.txt', 'drive/My Drive/Colab Notebooks/WS/Macbeth.txt', 'drive/My Drive/Colab Notebooks/WS/Measure4Measure.txt', 'drive/My Drive/Colab Notebooks/WS/MerchantOfVenice.txt', 'drive/My Drive/Colab Notebooks/WS/MerryWives.txt', 'drive/My Drive/Colab Notebooks/WS/MidsummerNights.txt', 'drive/My Drive/Colab Notebooks/WS/MuchAdo.txt', 'drive/My Drive/Colab Notebooks/WS/Othello.txt', 'drive/My Drive/Colab Notebooks/WS/Pericles.txt', 'drive/My Drive/Colab Notebooks/WS/Richard2.txt', 'drive/My Drive/Colab Notebooks/WS/Richard3.txt', 'drive/My Drive/Colab Notebooks/WS/TamingShrew.txt', 'drive/My Drive/Colab Notebooks/WS/Tempest.txt', 'drive/My Drive/Colab Notebooks/WS/Timon.txt', 'drive/My Drive/Colab Notebooks/WS/TitusAndronicus.txt', 'drive/My Drive/Colab Notebooks/WS/TwelfthNight.txt', 'drive/My Drive/Colab Notebooks/WS/WinterTale.txt', 'drive/My Drive/Colab Notebooks/WS/AllsWell.txt', 'drive/My Drive/Colab Notebooks/WS/TroiluisCressida.txt', 'drive/My Drive/Colab Notebooks/WS/AnthonyAndCleo.txt', 'drive/My Drive/Colab Notebooks/WS/Hamlet.txt', 'drive/My Drive/Colab Notebooks/WS/TwoGentlemenVerona.txt', 'drive/My Drive/Colab Notebooks/WS/Henry5.txt', 'drive/My Drive/Colab Notebooks/WS/RomeoJuliet.txt']\n"
          ],
          "name": "stdout"
        }
      ]
    },
    {
      "cell_type": "code",
      "metadata": {
        "id": "T0DphKbCMuJc",
        "colab_type": "code",
        "colab": {
          "base_uri": "https://localhost:8080/",
          "height": 54
        },
        "outputId": "5a40c2ec-93b9-4248-e104-2e195da73024"
      },
      "source": [
        "#wd = dropBoxDir+\"working/vx/\"\n",
        "\n",
        "dataDir = \"drive/My Drive/Colab Notebooks/WS\"\n",
        "\n",
        "import os, glob, time\n",
        "from os.path import isfile, join\n",
        "import numpy as np\n",
        "\n",
        "\n",
        "from pyLZJD import sim, digest\n",
        "\n",
        "text_files = glob.glob(join(dataDir, \"*.txt\"))\n",
        "#text_files = [f for f in os.listdir(dataDir) if f.endswith('.txt')]\n",
        "#print(text_files)\n",
        "n = len(text_files)\n",
        "result = digest(text_files)\n",
        "print(text_files)\n"
      ],
      "execution_count": 27,
      "outputs": [
        {
          "output_type": "stream",
          "text": [
            "['drive/My Drive/Colab Notebooks/WS/AsYouLikeIt.txt', 'drive/My Drive/Colab Notebooks/WS/ComedyOfErrors.txt', 'drive/My Drive/Colab Notebooks/WS/Coriolanus.txt', 'drive/My Drive/Colab Notebooks/WS/Cymbeline.txt', 'drive/My Drive/Colab Notebooks/WS/Henry4Part1.txt', 'drive/My Drive/Colab Notebooks/WS/Henry4Part2.txt', 'drive/My Drive/Colab Notebooks/WS/Henry6Part1.txt', 'drive/My Drive/Colab Notebooks/WS/Henry6Part2.txt', 'drive/My Drive/Colab Notebooks/WS/Henry6Part3.txt', 'drive/My Drive/Colab Notebooks/WS/Henry8.txt', 'drive/My Drive/Colab Notebooks/WS/JuliusCaesar.txt', 'drive/My Drive/Colab Notebooks/WS/KingJohn.txt', 'drive/My Drive/Colab Notebooks/WS/KingLear.txt', 'drive/My Drive/Colab Notebooks/WS/LoveLabors.txt', 'drive/My Drive/Colab Notebooks/WS/Macbeth.txt', 'drive/My Drive/Colab Notebooks/WS/Measure4Measure.txt', 'drive/My Drive/Colab Notebooks/WS/MerchantOfVenice.txt', 'drive/My Drive/Colab Notebooks/WS/MerryWives.txt', 'drive/My Drive/Colab Notebooks/WS/MidsummerNights.txt', 'drive/My Drive/Colab Notebooks/WS/MuchAdo.txt', 'drive/My Drive/Colab Notebooks/WS/Othello.txt', 'drive/My Drive/Colab Notebooks/WS/Pericles.txt', 'drive/My Drive/Colab Notebooks/WS/Richard2.txt', 'drive/My Drive/Colab Notebooks/WS/Richard3.txt', 'drive/My Drive/Colab Notebooks/WS/TamingShrew.txt', 'drive/My Drive/Colab Notebooks/WS/Tempest.txt', 'drive/My Drive/Colab Notebooks/WS/Timon.txt', 'drive/My Drive/Colab Notebooks/WS/TitusAndronicus.txt', 'drive/My Drive/Colab Notebooks/WS/TwelfthNight.txt', 'drive/My Drive/Colab Notebooks/WS/WinterTale.txt', 'drive/My Drive/Colab Notebooks/WS/AllsWell.txt', 'drive/My Drive/Colab Notebooks/WS/TroiluisCressida.txt', 'drive/My Drive/Colab Notebooks/WS/AnthonyAndCleo.txt', 'drive/My Drive/Colab Notebooks/WS/Hamlet.txt', 'drive/My Drive/Colab Notebooks/WS/TwoGentlemenVerona.txt', 'drive/My Drive/Colab Notebooks/WS/Henry5.txt', 'drive/My Drive/Colab Notebooks/WS/RomeoJuliet.txt']\n"
          ],
          "name": "stdout"
        }
      ]
    },
    {
      "cell_type": "markdown",
      "metadata": {
        "id": "5XVY1jkpMuJe",
        "colab_type": "text"
      },
      "source": [
        "Now compute the lzsets.  This needs to be done only once.  The lzset can be thought of as a set of strings such that all the strings occur in the lzset can be concatenedated, in some order and with the given amount of repetiton, to recreate the original document.  Also, each string in the lzset does occur in the document at least once, but if the frequency is zero, the string DOES occur at least once.  It was just not needed for the sake of LZ compression.  "
      ]
    },
    {
      "cell_type": "code",
      "metadata": {
        "id": "SNjuu0wUMuJj",
        "colab_type": "code",
        "colab": {
          "base_uri": "https://localhost:8080/",
          "height": 802
        },
        "outputId": "5f108039-194e-42f0-bc21-ae8fdb2dd941"
      },
      "source": [
        "#build a similarity matrix for use in hierarchical clustering\n",
        "# sim2 will be upper triangular only!\n",
        "nchoose2 = n*(n-1)//2\n",
        "print(\"Number of files is %d\" % n)\n",
        "print(\"Number of pairs (n choose 2) is %d\" % nchoose2)\n",
        "\n",
        "import os, glob\n",
        "from os.path import isfile, join\n",
        "\n",
        "from pyLZJD import sim, digest\n",
        "\n",
        "text_files = glob.glob(join(dataDir, \"*.txt\"))\n",
        "#text_files = [f for f in os.listdir(dataDir) if f.endswith('.txt')]\n",
        "#print(text_files)\n",
        "n = len(text_files)\n",
        "result = digest(text_files)\n",
        "\n",
        "sim2 = np.zeros(nchoose2)\n",
        "k = 0\n",
        "shortestD = 100\n",
        "f1 = f2 = \"\"\n",
        "ishort = jshort = -1\n",
        "\n",
        "for i in range(n-1):\n",
        "    print(\"computing similarity matrix row %d/%d (%s)\" % (i+1, n, text_files[i]))\n",
        "    for j in range(i+1,n):\n",
        "        theDistance = sim(result[i],result[j])\n",
        "        sim2[k] = theDistance\n",
        "        if  theDistance < shortestD:\n",
        "            shortestD = theDistance\n",
        "            f1 = text_files[i]\n",
        "            ishort = i\n",
        "            f2 = text_files[j]\n",
        "            jshort = j\n",
        "            print(\"Closest files so far, with distance of %f (%d, %d): %s and %s\" % \n",
        "                  (theDistance, ishort, jshort, f1, f2))\n",
        "        k += 1"
      ],
      "execution_count": 28,
      "outputs": [
        {
          "output_type": "stream",
          "text": [
            "Number of files is 37\n",
            "Number of pairs (n choose 2) is 666\n",
            "computing similarity matrix row 1/37 (drive/My Drive/Colab Notebooks/WS/AsYouLikeIt.txt)\n",
            "Closest files so far, with distance of 0.179724 (0, 1): drive/My Drive/Colab Notebooks/WS/AsYouLikeIt.txt and drive/My Drive/Colab Notebooks/WS/ComedyOfErrors.txt\n",
            "Closest files so far, with distance of 0.178366 (0, 3): drive/My Drive/Colab Notebooks/WS/AsYouLikeIt.txt and drive/My Drive/Colab Notebooks/WS/Cymbeline.txt\n",
            "Closest files so far, with distance of 0.175660 (0, 4): drive/My Drive/Colab Notebooks/WS/AsYouLikeIt.txt and drive/My Drive/Colab Notebooks/WS/Henry4Part1.txt\n",
            "Closest files so far, with distance of 0.159683 (0, 14): drive/My Drive/Colab Notebooks/WS/AsYouLikeIt.txt and drive/My Drive/Colab Notebooks/WS/Macbeth.txt\n",
            "computing similarity matrix row 2/37 (drive/My Drive/Colab Notebooks/WS/ComedyOfErrors.txt)\n",
            "Closest files so far, with distance of 0.124657 (1, 2): drive/My Drive/Colab Notebooks/WS/ComedyOfErrors.txt and drive/My Drive/Colab Notebooks/WS/Coriolanus.txt\n",
            "Closest files so far, with distance of 0.118514 (1, 5): drive/My Drive/Colab Notebooks/WS/ComedyOfErrors.txt and drive/My Drive/Colab Notebooks/WS/Henry4Part2.txt\n",
            "computing similarity matrix row 3/37 (drive/My Drive/Colab Notebooks/WS/Coriolanus.txt)\n",
            "computing similarity matrix row 4/37 (drive/My Drive/Colab Notebooks/WS/Cymbeline.txt)\n",
            "computing similarity matrix row 5/37 (drive/My Drive/Colab Notebooks/WS/Henry4Part1.txt)\n",
            "computing similarity matrix row 6/37 (drive/My Drive/Colab Notebooks/WS/Henry4Part2.txt)\n",
            "computing similarity matrix row 7/37 (drive/My Drive/Colab Notebooks/WS/Henry6Part1.txt)\n",
            "computing similarity matrix row 8/37 (drive/My Drive/Colab Notebooks/WS/Henry6Part2.txt)\n",
            "computing similarity matrix row 9/37 (drive/My Drive/Colab Notebooks/WS/Henry6Part3.txt)\n",
            "computing similarity matrix row 10/37 (drive/My Drive/Colab Notebooks/WS/Henry8.txt)\n",
            "computing similarity matrix row 11/37 (drive/My Drive/Colab Notebooks/WS/JuliusCaesar.txt)\n",
            "computing similarity matrix row 12/37 (drive/My Drive/Colab Notebooks/WS/KingJohn.txt)\n",
            "computing similarity matrix row 13/37 (drive/My Drive/Colab Notebooks/WS/KingLear.txt)\n",
            "computing similarity matrix row 14/37 (drive/My Drive/Colab Notebooks/WS/LoveLabors.txt)\n",
            "computing similarity matrix row 15/37 (drive/My Drive/Colab Notebooks/WS/Macbeth.txt)\n",
            "computing similarity matrix row 16/37 (drive/My Drive/Colab Notebooks/WS/Measure4Measure.txt)\n",
            "computing similarity matrix row 17/37 (drive/My Drive/Colab Notebooks/WS/MerchantOfVenice.txt)\n",
            "computing similarity matrix row 18/37 (drive/My Drive/Colab Notebooks/WS/MerryWives.txt)\n",
            "computing similarity matrix row 19/37 (drive/My Drive/Colab Notebooks/WS/MidsummerNights.txt)\n",
            "computing similarity matrix row 20/37 (drive/My Drive/Colab Notebooks/WS/MuchAdo.txt)\n",
            "computing similarity matrix row 21/37 (drive/My Drive/Colab Notebooks/WS/Othello.txt)\n",
            "computing similarity matrix row 22/37 (drive/My Drive/Colab Notebooks/WS/Pericles.txt)\n",
            "computing similarity matrix row 23/37 (drive/My Drive/Colab Notebooks/WS/Richard2.txt)\n",
            "computing similarity matrix row 24/37 (drive/My Drive/Colab Notebooks/WS/Richard3.txt)\n",
            "computing similarity matrix row 25/37 (drive/My Drive/Colab Notebooks/WS/TamingShrew.txt)\n",
            "computing similarity matrix row 26/37 (drive/My Drive/Colab Notebooks/WS/Tempest.txt)\n",
            "computing similarity matrix row 27/37 (drive/My Drive/Colab Notebooks/WS/Timon.txt)\n",
            "computing similarity matrix row 28/37 (drive/My Drive/Colab Notebooks/WS/TitusAndronicus.txt)\n",
            "computing similarity matrix row 29/37 (drive/My Drive/Colab Notebooks/WS/TwelfthNight.txt)\n",
            "computing similarity matrix row 30/37 (drive/My Drive/Colab Notebooks/WS/WinterTale.txt)\n",
            "computing similarity matrix row 31/37 (drive/My Drive/Colab Notebooks/WS/AllsWell.txt)\n",
            "computing similarity matrix row 32/37 (drive/My Drive/Colab Notebooks/WS/TroiluisCressida.txt)\n",
            "computing similarity matrix row 33/37 (drive/My Drive/Colab Notebooks/WS/AnthonyAndCleo.txt)\n",
            "computing similarity matrix row 34/37 (drive/My Drive/Colab Notebooks/WS/Hamlet.txt)\n",
            "Closest files so far, with distance of 0.117904 (33, 34): drive/My Drive/Colab Notebooks/WS/Hamlet.txt and drive/My Drive/Colab Notebooks/WS/TwoGentlemenVerona.txt\n",
            "computing similarity matrix row 35/37 (drive/My Drive/Colab Notebooks/WS/TwoGentlemenVerona.txt)\n",
            "computing similarity matrix row 36/37 (drive/My Drive/Colab Notebooks/WS/Henry5.txt)\n"
          ],
          "name": "stdout"
        }
      ]
    },
    {
      "cell_type": "code",
      "metadata": {
        "id": "fORTpjNUMuJm",
        "colab_type": "code",
        "colab": {
          "base_uri": "https://localhost:8080/",
          "height": 54
        },
        "outputId": "585c36e2-372f-4149-e633-fe0f01fa98ca"
      },
      "source": [
        "print(\"According to LZJD, the two closest plays are (%d, %d): %s and %s, with a distance of %f\" \n",
        "      % (ishort, jshort, f1, f2, shortestD))"
      ],
      "execution_count": 29,
      "outputs": [
        {
          "output_type": "stream",
          "text": [
            "According to LZJD, the two closest plays are (33, 34): drive/My Drive/Colab Notebooks/WS/Hamlet.txt and drive/My Drive/Colab Notebooks/WS/TwoGentlemenVerona.txt, with a distance of 0.117904\n"
          ],
          "name": "stdout"
        }
      ]
    },
    {
      "cell_type": "markdown",
      "metadata": {
        "collapsed": true,
        "id": "8zKuKdFPMuJs",
        "colab_type": "text"
      },
      "source": [
        "Granted that Henry 6 parts 2 and 3 are the most similar plays.  What strings do that have in common?  "
      ]
    },
    {
      "cell_type": "code",
      "metadata": {
        "id": "8ORLV3soMuJt",
        "colab_type": "code",
        "colab": {
          "base_uri": "https://localhost:8080/",
          "height": 35
        },
        "outputId": "f46a12a9-cec2-4e10-9f25-e24f357d77ee"
      },
      "source": [
        "text_files[11]"
      ],
      "execution_count": 30,
      "outputs": [
        {
          "output_type": "execute_result",
          "data": {
            "application/vnd.google.colaboratory.intrinsic+json": {
              "type": "string"
            },
            "text/plain": [
              "'drive/My Drive/Colab Notebooks/WS/KingJohn.txt'"
            ]
          },
          "metadata": {
            "tags": []
          },
          "execution_count": 30
        }
      ]
    },
    {
      "cell_type": "code",
      "metadata": {
        "id": "pWPNQ2doMuJv",
        "colab_type": "code",
        "colab": {
          "base_uri": "https://localhost:8080/",
          "height": 35
        },
        "outputId": "39b5e82f-3531-4eea-d831-aa363e70e59c"
      },
      "source": [
        "text_files[12]"
      ],
      "execution_count": 31,
      "outputs": [
        {
          "output_type": "execute_result",
          "data": {
            "application/vnd.google.colaboratory.intrinsic+json": {
              "type": "string"
            },
            "text/plain": [
              "'drive/My Drive/Colab Notebooks/WS/KingLear.txt'"
            ]
          },
          "metadata": {
            "tags": []
          },
          "execution_count": 31
        }
      ]
    },
    {
      "cell_type": "code",
      "metadata": {
        "id": "6Ww1B3YoMuJz",
        "colab_type": "code",
        "colab": {}
      },
      "source": [
        ""
      ],
      "execution_count": null,
      "outputs": []
    }
  ]
}