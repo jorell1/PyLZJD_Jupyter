{
  "nbformat": 4,
  "nbformat_minor": 0,
  "metadata": {
    "kernelspec": {
      "display_name": "Python 3",
      "language": "python",
      "name": "python3"
    },
    "language_info": {
      "codemirror_mode": {
        "name": "ipython",
        "version": 3
      },
      "file_extension": ".py",
      "mimetype": "text/x-python",
      "name": "python",
      "nbconvert_exporter": "python",
      "pygments_lexer": "ipython3",
      "version": "3.7.5"
    },
    "colab": {
      "name": "Implementing LZJDh, test on Shakespeare.ipynb",
      "provenance": [],
      "collapsed_sections": [],
      "include_colab_link": true
    }
  },
  "cells": [
    {
      "cell_type": "markdown",
      "metadata": {
        "id": "view-in-github",
        "colab_type": "text"
      },
      "source": [
        "<a href=\"https://colab.research.google.com/github/jorell1/PyLZJD_Jupyter/blob/master/Implementing_LZJDh%2C_test_on_Shakespeare.ipynb\" target=\"_parent\"><img src=\"https://colab.research.google.com/assets/colab-badge.svg\" alt=\"Open In Colab\"/></a>"
      ]
    },
    {
      "cell_type": "markdown",
      "metadata": {
        "id": "-5hglNgkMuJQ",
        "colab_type": "text"
      },
      "source": [
        "# Testing pyLZJD Clustering Shakespeare"
      ]
    },
    {
      "cell_type": "code",
      "metadata": {
        "id": "beQcLt5-WVXo",
        "colab_type": "code",
        "colab": {
          "base_uri": "https://localhost:8080/",
          "height": 238
        },
        "outputId": "433ae790-fbee-499f-d0d8-f56c3c338f3e"
      },
      "source": [
        "from google.colab import drive\n",
        "drive.mount(\"/content/drive\")\n",
        "!pip install git+git://github.com/EdwardRaff/pyLZJD#egg=pyLZJD"
      ],
      "execution_count": 3,
      "outputs": [
        {
          "output_type": "stream",
          "text": [
            "Mounted at /content/drive\n",
            "Collecting pyLZJD\n",
            "  Cloning git://github.com/EdwardRaff/pyLZJD to /tmp/pip-install-n24gyf2j/pyLZJD\n",
            "  Running command git clone -q git://github.com/EdwardRaff/pyLZJD /tmp/pip-install-n24gyf2j/pyLZJD\n",
            "Requirement already satisfied: numpy in /usr/local/lib/python3.6/dist-packages (from pyLZJD) (1.18.5)\n",
            "Requirement already satisfied: cython in /usr/local/lib/python3.6/dist-packages (from pyLZJD) (0.29.21)\n",
            "Building wheels for collected packages: pyLZJD\n",
            "  Building wheel for pyLZJD (setup.py) ... \u001b[?25l\u001b[?25hdone\n",
            "  Created wheel for pyLZJD: filename=pyLZJD-0.0.2-cp36-none-any.whl size=14687 sha256=2f2b94f14bad5a16e2c9ed34b0fa726703f6de9951a004b636f2c83c11c3d91f\n",
            "  Stored in directory: /tmp/pip-ephem-wheel-cache-bbs2bwbr/wheels/b1/ab/c2/f1240358b61998fca73ea5f4f2432c8872716c20f767173d9c\n",
            "Successfully built pyLZJD\n",
            "Installing collected packages: pyLZJD\n",
            "Successfully installed pyLZJD-0.0.2\n"
          ],
          "name": "stdout"
        }
      ]
    },
    {
      "cell_type": "code",
      "metadata": {
        "id": "Qhu27q75WihS",
        "colab_type": "code",
        "colab": {
          "base_uri": "https://localhost:8080/",
          "height": 238
        },
        "outputId": "cbb40538-8bc1-46fd-b6d1-108e503b3fe3"
      },
      "source": [
        "!ls drive/My\\ Drive/Colab\\ Notebooks/WS\n",
        "dataDir = \"drive/My Drive/Colab Notebooks/WS\"\n",
        "\n"
      ],
      "execution_count": 6,
      "outputs": [
        {
          "output_type": "stream",
          "text": [
            "AllsWell.txt\t    Henry8.txt\t\t  Richard2.txt\n",
            "AnthonyAndCleo.txt  JuliusCaesar.txt\t  Richard3.txt\n",
            "AsYouLikeIt.txt     KingJohn.txt\t  RomeoJuliet.txt\n",
            "ComedyOfErrors.txt  KingLear.txt\t  TamingShrew.txt\n",
            "Coriolanus.txt\t    LoveLabors.txt\t  Tempest.txt\n",
            "Cymbeline.txt\t    Macbeth.txt\t\t  Timon.txt\n",
            "Hamlet.txt\t    Measure4Measure.txt   TitusAndronicus.txt\n",
            "Henry4Part1.txt     MerchantOfVenice.txt  TroiluisCressida.txt\n",
            "Henry4Part2.txt     MerryWives.txt\t  TwelfthNight.txt\n",
            "Henry5.txt\t    MidsummerNights.txt   TwoGentlemenVerona.txt\n",
            "Henry6Part1.txt     MuchAdo.txt\t\t  WinterTale.txt\n",
            "Henry6Part2.txt     Othello.txt\n",
            "Henry6Part3.txt     Pericles.txt\n"
          ],
          "name": "stdout"
        }
      ]
    },
    {
      "cell_type": "code",
      "metadata": {
        "id": "T0DphKbCMuJc",
        "colab_type": "code",
        "colab": {
          "base_uri": "https://localhost:8080/",
          "height": 88
        },
        "outputId": "2069bea3-e394-4750-8174-75aa46e1381a"
      },
      "source": [
        "import os, glob, time\n",
        "from os.path import isfile, join\n",
        "import numpy as np\n",
        "\n",
        "\n",
        "from pyLZJD import sim, digest\n",
        "\n",
        "text_files = glob.glob(join(dataDir, \"*.txt\"))\n",
        "#text_files = [f for f in os.listdir(dataDir) if f.endswith('.txt')]\n",
        "#print(text_files)\n",
        "n = len(text_files)\n",
        "result = digest(text_files)\n",
        "print(text_files)\n"
      ],
      "execution_count": 7,
      "outputs": [
        {
          "output_type": "stream",
          "text": [
            "/usr/local/lib/python3.6/dist-packages/Cython/Compiler/Main.py:369: FutureWarning: Cython directive 'language_level' not set, using 2 for now (Py2). This will change in a later release! File: /usr/local/lib/python3.6/dist-packages/pyLZJD/lzjd_cython.pyx\n",
            "  tree = Parsing.p_module(s, pxd, full_module_name)\n"
          ],
          "name": "stderr"
        },
        {
          "output_type": "stream",
          "text": [
            "['drive/My Drive/Colab Notebooks/WS/AsYouLikeIt.txt', 'drive/My Drive/Colab Notebooks/WS/ComedyOfErrors.txt', 'drive/My Drive/Colab Notebooks/WS/Coriolanus.txt', 'drive/My Drive/Colab Notebooks/WS/Cymbeline.txt', 'drive/My Drive/Colab Notebooks/WS/Henry4Part1.txt', 'drive/My Drive/Colab Notebooks/WS/Henry4Part2.txt', 'drive/My Drive/Colab Notebooks/WS/Henry6Part1.txt', 'drive/My Drive/Colab Notebooks/WS/Henry6Part2.txt', 'drive/My Drive/Colab Notebooks/WS/Henry6Part3.txt', 'drive/My Drive/Colab Notebooks/WS/Henry8.txt', 'drive/My Drive/Colab Notebooks/WS/JuliusCaesar.txt', 'drive/My Drive/Colab Notebooks/WS/KingJohn.txt', 'drive/My Drive/Colab Notebooks/WS/KingLear.txt', 'drive/My Drive/Colab Notebooks/WS/LoveLabors.txt', 'drive/My Drive/Colab Notebooks/WS/Macbeth.txt', 'drive/My Drive/Colab Notebooks/WS/Measure4Measure.txt', 'drive/My Drive/Colab Notebooks/WS/MerchantOfVenice.txt', 'drive/My Drive/Colab Notebooks/WS/MerryWives.txt', 'drive/My Drive/Colab Notebooks/WS/MidsummerNights.txt', 'drive/My Drive/Colab Notebooks/WS/MuchAdo.txt', 'drive/My Drive/Colab Notebooks/WS/Othello.txt', 'drive/My Drive/Colab Notebooks/WS/Pericles.txt', 'drive/My Drive/Colab Notebooks/WS/Richard2.txt', 'drive/My Drive/Colab Notebooks/WS/Richard3.txt', 'drive/My Drive/Colab Notebooks/WS/TamingShrew.txt', 'drive/My Drive/Colab Notebooks/WS/Tempest.txt', 'drive/My Drive/Colab Notebooks/WS/Timon.txt', 'drive/My Drive/Colab Notebooks/WS/TitusAndronicus.txt', 'drive/My Drive/Colab Notebooks/WS/TwelfthNight.txt', 'drive/My Drive/Colab Notebooks/WS/WinterTale.txt', 'drive/My Drive/Colab Notebooks/WS/AllsWell.txt', 'drive/My Drive/Colab Notebooks/WS/TroiluisCressida.txt', 'drive/My Drive/Colab Notebooks/WS/AnthonyAndCleo.txt', 'drive/My Drive/Colab Notebooks/WS/Hamlet.txt', 'drive/My Drive/Colab Notebooks/WS/TwoGentlemenVerona.txt', 'drive/My Drive/Colab Notebooks/WS/Henry5.txt', 'drive/My Drive/Colab Notebooks/WS/RomeoJuliet.txt']\n"
          ],
          "name": "stdout"
        }
      ]
    },
    {
      "cell_type": "markdown",
      "metadata": {
        "id": "5XVY1jkpMuJe",
        "colab_type": "text"
      },
      "source": [
        "Now compute the lzsets.  This needs to be done only once.  The lzset can be thought of as a set of strings such that all the strings occur in the lzset can be concatenedated, in some order and with the given amount of repetiton, to recreate the original document.  Also, each string in the lzset does occur in the document at least once, but if the frequency is zero, the string DOES occur at least once.  It was just not needed for the sake of LZ compression.  "
      ]
    },
    {
      "cell_type": "code",
      "metadata": {
        "id": "SNjuu0wUMuJj",
        "colab_type": "code",
        "colab": {
          "base_uri": "https://localhost:8080/",
          "height": 782
        },
        "outputId": "76bbc67f-683c-407e-e5b2-25b853bcc0fc"
      },
      "source": [
        "#build a similarity matrix for use in hierarchical clustering\n",
        "# sim2 will be upper triangular only!\n",
        "nchoose2 = n*(n-1)//2\n",
        "print(\"Number of files is %d\" % n)\n",
        "print(\"Number of pairs (n choose 2) is %d\" % nchoose2)\n",
        "\n",
        "import os, glob\n",
        "from os.path import isfile, join\n",
        "\n",
        "from pyLZJD import sim, digest\n",
        "\n",
        "text_files = glob.glob(join(dataDir, \"*.txt\"))\n",
        "#text_files = [f for f in os.listdir(dataDir) if f.endswith('.txt')]\n",
        "#print(text_files)\n",
        "n = len(text_files)\n",
        "result = digest(text_files)\n",
        "\n",
        "sim2 = np.zeros(nchoose2)\n",
        "k = 0\n",
        "shortestD = 100\n",
        "f1 = f2 = \"\"\n",
        "ishort = jshort = -1\n",
        "\n",
        "for i in range(n-1):\n",
        "    print(\"computing similarity matrix row %d/%d (%s)\" % (i+1, n, text_files[i]))\n",
        "    for j in range(i+1,n):\n",
        "        theDistance = sim(result[i],result[j])\n",
        "        sim2[k] = theDistance\n",
        "        if  theDistance < shortestD:\n",
        "            shortestD = theDistance\n",
        "            f1 = text_files[i]\n",
        "            ishort = i\n",
        "            f2 = text_files[j]\n",
        "            jshort = j\n",
        "            print(\"Closest files so far, with distance of %f (%d, %d): %s and %s\" % \n",
        "                  (theDistance, ishort, jshort, f1, f2))\n",
        "        k += 1"
      ],
      "execution_count": 8,
      "outputs": [
        {
          "output_type": "stream",
          "text": [
            "Number of files is 37\n",
            "Number of pairs (n choose 2) is 666\n",
            "computing similarity matrix row 1/37 (drive/My Drive/Colab Notebooks/WS/AsYouLikeIt.txt)\n",
            "Closest files so far, with distance of 0.179724 (0, 1): drive/My Drive/Colab Notebooks/WS/AsYouLikeIt.txt and drive/My Drive/Colab Notebooks/WS/ComedyOfErrors.txt\n",
            "Closest files so far, with distance of 0.178366 (0, 3): drive/My Drive/Colab Notebooks/WS/AsYouLikeIt.txt and drive/My Drive/Colab Notebooks/WS/Cymbeline.txt\n",
            "Closest files so far, with distance of 0.175660 (0, 4): drive/My Drive/Colab Notebooks/WS/AsYouLikeIt.txt and drive/My Drive/Colab Notebooks/WS/Henry4Part1.txt\n",
            "Closest files so far, with distance of 0.159683 (0, 14): drive/My Drive/Colab Notebooks/WS/AsYouLikeIt.txt and drive/My Drive/Colab Notebooks/WS/Macbeth.txt\n",
            "computing similarity matrix row 2/37 (drive/My Drive/Colab Notebooks/WS/ComedyOfErrors.txt)\n",
            "Closest files so far, with distance of 0.124657 (1, 2): drive/My Drive/Colab Notebooks/WS/ComedyOfErrors.txt and drive/My Drive/Colab Notebooks/WS/Coriolanus.txt\n",
            "Closest files so far, with distance of 0.118514 (1, 5): drive/My Drive/Colab Notebooks/WS/ComedyOfErrors.txt and drive/My Drive/Colab Notebooks/WS/Henry4Part2.txt\n",
            "computing similarity matrix row 3/37 (drive/My Drive/Colab Notebooks/WS/Coriolanus.txt)\n",
            "computing similarity matrix row 4/37 (drive/My Drive/Colab Notebooks/WS/Cymbeline.txt)\n",
            "computing similarity matrix row 5/37 (drive/My Drive/Colab Notebooks/WS/Henry4Part1.txt)\n",
            "computing similarity matrix row 6/37 (drive/My Drive/Colab Notebooks/WS/Henry4Part2.txt)\n",
            "computing similarity matrix row 7/37 (drive/My Drive/Colab Notebooks/WS/Henry6Part1.txt)\n",
            "computing similarity matrix row 8/37 (drive/My Drive/Colab Notebooks/WS/Henry6Part2.txt)\n",
            "computing similarity matrix row 9/37 (drive/My Drive/Colab Notebooks/WS/Henry6Part3.txt)\n",
            "computing similarity matrix row 10/37 (drive/My Drive/Colab Notebooks/WS/Henry8.txt)\n",
            "computing similarity matrix row 11/37 (drive/My Drive/Colab Notebooks/WS/JuliusCaesar.txt)\n",
            "computing similarity matrix row 12/37 (drive/My Drive/Colab Notebooks/WS/KingJohn.txt)\n",
            "computing similarity matrix row 13/37 (drive/My Drive/Colab Notebooks/WS/KingLear.txt)\n",
            "computing similarity matrix row 14/37 (drive/My Drive/Colab Notebooks/WS/LoveLabors.txt)\n",
            "computing similarity matrix row 15/37 (drive/My Drive/Colab Notebooks/WS/Macbeth.txt)\n",
            "computing similarity matrix row 16/37 (drive/My Drive/Colab Notebooks/WS/Measure4Measure.txt)\n",
            "computing similarity matrix row 17/37 (drive/My Drive/Colab Notebooks/WS/MerchantOfVenice.txt)\n",
            "computing similarity matrix row 18/37 (drive/My Drive/Colab Notebooks/WS/MerryWives.txt)\n",
            "computing similarity matrix row 19/37 (drive/My Drive/Colab Notebooks/WS/MidsummerNights.txt)\n",
            "computing similarity matrix row 20/37 (drive/My Drive/Colab Notebooks/WS/MuchAdo.txt)\n",
            "computing similarity matrix row 21/37 (drive/My Drive/Colab Notebooks/WS/Othello.txt)\n",
            "computing similarity matrix row 22/37 (drive/My Drive/Colab Notebooks/WS/Pericles.txt)\n",
            "computing similarity matrix row 23/37 (drive/My Drive/Colab Notebooks/WS/Richard2.txt)\n",
            "computing similarity matrix row 24/37 (drive/My Drive/Colab Notebooks/WS/Richard3.txt)\n",
            "computing similarity matrix row 25/37 (drive/My Drive/Colab Notebooks/WS/TamingShrew.txt)\n",
            "computing similarity matrix row 26/37 (drive/My Drive/Colab Notebooks/WS/Tempest.txt)\n",
            "computing similarity matrix row 27/37 (drive/My Drive/Colab Notebooks/WS/Timon.txt)\n",
            "computing similarity matrix row 28/37 (drive/My Drive/Colab Notebooks/WS/TitusAndronicus.txt)\n",
            "computing similarity matrix row 29/37 (drive/My Drive/Colab Notebooks/WS/TwelfthNight.txt)\n",
            "computing similarity matrix row 30/37 (drive/My Drive/Colab Notebooks/WS/WinterTale.txt)\n",
            "computing similarity matrix row 31/37 (drive/My Drive/Colab Notebooks/WS/AllsWell.txt)\n",
            "computing similarity matrix row 32/37 (drive/My Drive/Colab Notebooks/WS/TroiluisCressida.txt)\n",
            "computing similarity matrix row 33/37 (drive/My Drive/Colab Notebooks/WS/AnthonyAndCleo.txt)\n",
            "computing similarity matrix row 34/37 (drive/My Drive/Colab Notebooks/WS/Hamlet.txt)\n",
            "Closest files so far, with distance of 0.117904 (33, 34): drive/My Drive/Colab Notebooks/WS/Hamlet.txt and drive/My Drive/Colab Notebooks/WS/TwoGentlemenVerona.txt\n",
            "computing similarity matrix row 35/37 (drive/My Drive/Colab Notebooks/WS/TwoGentlemenVerona.txt)\n",
            "computing similarity matrix row 36/37 (drive/My Drive/Colab Notebooks/WS/Henry5.txt)\n"
          ],
          "name": "stdout"
        }
      ]
    },
    {
      "cell_type": "code",
      "metadata": {
        "id": "fORTpjNUMuJm",
        "colab_type": "code",
        "colab": {
          "base_uri": "https://localhost:8080/",
          "height": 34
        },
        "outputId": "b07ad81f-1f36-4635-d8da-6ca093ef0714"
      },
      "source": [
        "print(\"According to pyLZJD, the two closest plays are (%d, %d): %s and %s, with a distance of %f\" \n",
        "      % (ishort, jshort, f1, f2, shortestD))"
      ],
      "execution_count": 9,
      "outputs": [
        {
          "output_type": "stream",
          "text": [
            "According to LZJD, the two closest plays are (33, 34): drive/My Drive/Colab Notebooks/WS/Hamlet.txt and drive/My Drive/Colab Notebooks/WS/TwoGentlemenVerona.txt, with a distance of 0.117904\n"
          ],
          "name": "stdout"
        }
      ]
    },
    {
      "cell_type": "markdown",
      "metadata": {
        "collapsed": true,
        "id": "8zKuKdFPMuJs",
        "colab_type": "text"
      },
      "source": [
        "Granted that Henry 6 parts 2 and 3 are the most similar plays.  What strings do that have in common?  "
      ]
    },
    {
      "cell_type": "code",
      "metadata": {
        "id": "8ORLV3soMuJt",
        "colab_type": "code",
        "colab": {
          "base_uri": "https://localhost:8080/",
          "height": 35
        },
        "outputId": "f46a12a9-cec2-4e10-9f25-e24f357d77ee"
      },
      "source": [
        "text_files[11]"
      ],
      "execution_count": 30,
      "outputs": [
        {
          "output_type": "execute_result",
          "data": {
            "application/vnd.google.colaboratory.intrinsic+json": {
              "type": "string"
            },
            "text/plain": [
              "'drive/My Drive/Colab Notebooks/WS/KingJohn.txt'"
            ]
          },
          "metadata": {
            "tags": []
          },
          "execution_count": 30
        }
      ]
    },
    {
      "cell_type": "code",
      "metadata": {
        "id": "pWPNQ2doMuJv",
        "colab_type": "code",
        "colab": {
          "base_uri": "https://localhost:8080/",
          "height": 35
        },
        "outputId": "39b5e82f-3531-4eea-d831-aa363e70e59c"
      },
      "source": [
        "text_files[12]"
      ],
      "execution_count": 31,
      "outputs": [
        {
          "output_type": "execute_result",
          "data": {
            "application/vnd.google.colaboratory.intrinsic+json": {
              "type": "string"
            },
            "text/plain": [
              "'drive/My Drive/Colab Notebooks/WS/KingLear.txt'"
            ]
          },
          "metadata": {
            "tags": []
          },
          "execution_count": 31
        }
      ]
    },
    {
      "cell_type": "code",
      "metadata": {
        "id": "6Ww1B3YoMuJz",
        "colab_type": "code",
        "colab": {
          "base_uri": "https://localhost:8080/",
          "height": 54
        },
        "outputId": "38ad254a-1434-4736-a335-130438175085"
      },
      "source": [
        "import os\n",
        "dataDir = \"drive/My Drive/Colab Notebooks/WS\"\n",
        "text_files = [f for f in os.listdir(dataDir) if f.endswith('.txt')]\n",
        "print(text_files)\n",
        "n = len(text_files)"
      ],
      "execution_count": 10,
      "outputs": [
        {
          "output_type": "stream",
          "text": [
            "['AsYouLikeIt.txt', 'ComedyOfErrors.txt', 'Coriolanus.txt', 'Cymbeline.txt', 'Henry4Part1.txt', 'Henry4Part2.txt', 'Henry6Part1.txt', 'Henry6Part2.txt', 'Henry6Part3.txt', 'Henry8.txt', 'JuliusCaesar.txt', 'KingJohn.txt', 'KingLear.txt', 'LoveLabors.txt', 'Macbeth.txt', 'Measure4Measure.txt', 'MerchantOfVenice.txt', 'MerryWives.txt', 'MidsummerNights.txt', 'MuchAdo.txt', 'Othello.txt', 'Pericles.txt', 'Richard2.txt', 'Richard3.txt', 'TamingShrew.txt', 'Tempest.txt', 'Timon.txt', 'TitusAndronicus.txt', 'TwelfthNight.txt', 'WinterTale.txt', 'AllsWell.txt', 'TroiluisCressida.txt', 'AnthonyAndCleo.txt', 'Hamlet.txt', 'TwoGentlemenVerona.txt', 'Henry5.txt', 'RomeoJuliet.txt']\n"
          ],
          "name": "stdout"
        }
      ]
    },
    {
      "cell_type": "code",
      "metadata": {
        "id": "PnQCZppQWDE8",
        "colab_type": "code",
        "colab": {
          "base_uri": "https://localhost:8080/",
          "height": 34
        },
        "outputId": "a12d9460-bd42-42a9-b0f7-718f24186498"
      },
      "source": [
        "#read in a bunch of files\n",
        "buff = [open(dataDir+\"/\"+f, \"rb\").read() for f in text_files]\n",
        "\n",
        "#taking up how much space?\n",
        "buffSize = 0\n",
        "for i in range(n):\n",
        "    buffSize += len(buff[i])\n",
        "print(\"Raw data takes up how much space? %d\" % (buffSize))"
      ],
      "execution_count": 12,
      "outputs": [
        {
          "output_type": "stream",
          "text": [
            "Raw data takes up how much space? 5177104\n"
          ],
          "name": "stdout"
        }
      ]
    },
    {
      "cell_type": "code",
      "metadata": {
        "id": "o4iXoieRWx6U",
        "colab_type": "code",
        "colab": {
          "base_uri": "https://localhost:8080/",
          "height": 663
        },
        "outputId": "7a044aa7-c4d4-4a13-b45c-1d480a51f4dc"
      },
      "source": [
        "!cp \"drive/My Drive/Colab Notebooks/LZJD.py\" .\n",
        "\n",
        "\n",
        "from LZJD import *\n",
        "\n",
        "start = time.clock()\n",
        "nullLZset = lzset(b\"\")\n",
        "lzSets = [nullLZset for i in range(n)]\n",
        "\n",
        "start = time.clock()\n",
        "for i in range(n):\n",
        "    print(\"Building lzset for %s\" % (text_files[i]))\n",
        "    lzSets[i] = lzset(buff[i])\n",
        "print(\"Execution time for building LZSets: %f\" % (time.clock() - start))"
      ],
      "execution_count": 16,
      "outputs": [
        {
          "output_type": "stream",
          "text": [
            "Building lzset for AsYouLikeIt.txt\n",
            "Building lzset for ComedyOfErrors.txt\n",
            "Building lzset for Coriolanus.txt\n",
            "Building lzset for Cymbeline.txt\n",
            "Building lzset for Henry4Part1.txt\n",
            "Building lzset for Henry4Part2.txt\n",
            "Building lzset for Henry6Part1.txt\n",
            "Building lzset for Henry6Part2.txt\n",
            "Building lzset for Henry6Part3.txt\n",
            "Building lzset for Henry8.txt\n",
            "Building lzset for JuliusCaesar.txt\n",
            "Building lzset for KingJohn.txt\n",
            "Building lzset for KingLear.txt\n",
            "Building lzset for LoveLabors.txt\n",
            "Building lzset for Macbeth.txt\n",
            "Building lzset for Measure4Measure.txt\n",
            "Building lzset for MerchantOfVenice.txt\n",
            "Building lzset for MerryWives.txt\n",
            "Building lzset for MidsummerNights.txt\n",
            "Building lzset for MuchAdo.txt\n",
            "Building lzset for Othello.txt\n",
            "Building lzset for Pericles.txt\n",
            "Building lzset for Richard2.txt\n",
            "Building lzset for Richard3.txt\n",
            "Building lzset for TamingShrew.txt\n",
            "Building lzset for Tempest.txt\n",
            "Building lzset for Timon.txt\n",
            "Building lzset for TitusAndronicus.txt\n",
            "Building lzset for TwelfthNight.txt\n",
            "Building lzset for WinterTale.txt\n",
            "Building lzset for AllsWell.txt\n",
            "Building lzset for TroiluisCressida.txt\n",
            "Building lzset for AnthonyAndCleo.txt\n",
            "Building lzset for Hamlet.txt\n",
            "Building lzset for TwoGentlemenVerona.txt\n",
            "Building lzset for Henry5.txt\n",
            "Building lzset for RomeoJuliet.txt\n",
            "Execution time for building LZSets: 12.172681\n"
          ],
          "name": "stdout"
        }
      ]
    },
    {
      "cell_type": "code",
      "metadata": {
        "id": "UhLXWLM1ZFLF",
        "colab_type": "code",
        "colab": {
          "base_uri": "https://localhost:8080/",
          "height": 833
        },
        "outputId": "c9a69452-0b2c-49cc-c595-7b2406172f57"
      },
      "source": [
        "#build a similarity matrix for use in hierarchical clustering\n",
        "# sim2 will be upper triangular only!\n",
        "nchoose2 = n*(n-1)//2\n",
        "print(\"Number of files is %d\" % n)\n",
        "print(\"Number of pairs (n choose 2) is %d\" % nchoose2)\n",
        "\n",
        "sim2 = np.zeros(nchoose2)\n",
        "k = 0\n",
        "shortestD = 100\n",
        "f1 = f2 = \"\"\n",
        "ishort = jshort = -1\n",
        "\n",
        "for i in range(n-1):\n",
        "    print(\"computing similarity matrix row %d/%d (%s)\" % (i+1, n, text_files[i]))\n",
        "    for j in range(i+1,n):\n",
        "        theDistance = lzSets[i].lzjd(lzSets[j])\n",
        "        sim2[k] = theDistance\n",
        "        if  theDistance < shortestD:\n",
        "            shortestD = theDistance\n",
        "            f1 = text_files[i]\n",
        "            ishort = i\n",
        "            f2 = text_files[j]\n",
        "            jshort = j\n",
        "            print(\"Closest files so far, with distance of %f (%d, %d): %s and %s\" % \n",
        "                  (theDistance, ishort, jshort, f1, f2))\n",
        "        k += 1"
      ],
      "execution_count": 17,
      "outputs": [
        {
          "output_type": "stream",
          "text": [
            "Number of files is 37\n",
            "Number of pairs (n choose 2) is 666\n",
            "computing similarity matrix row 1/37 (AsYouLikeIt.txt)\n",
            "Closest files so far, with distance of 0.758639 (0, 1): AsYouLikeIt.txt and ComedyOfErrors.txt\n",
            "Closest files so far, with distance of 0.753558 (0, 3): AsYouLikeIt.txt and Cymbeline.txt\n",
            "Closest files so far, with distance of 0.721734 (0, 13): AsYouLikeIt.txt and LoveLabors.txt\n",
            "Closest files so far, with distance of 0.713828 (0, 19): AsYouLikeIt.txt and MuchAdo.txt\n",
            "Closest files so far, with distance of 0.710284 (0, 30): AsYouLikeIt.txt and AllsWell.txt\n",
            "computing similarity matrix row 2/37 (ComedyOfErrors.txt)\n",
            "computing similarity matrix row 3/37 (Coriolanus.txt)\n",
            "computing similarity matrix row 4/37 (Cymbeline.txt)\n",
            "Closest files so far, with distance of 0.709323 (3, 26): Cymbeline.txt and Timon.txt\n",
            "Closest files so far, with distance of 0.700122 (3, 32): Cymbeline.txt and AnthonyAndCleo.txt\n",
            "computing similarity matrix row 5/37 (Henry4Part1.txt)\n",
            "Closest files so far, with distance of 0.697092 (4, 5): Henry4Part1.txt and Henry4Part2.txt\n",
            "computing similarity matrix row 6/37 (Henry4Part2.txt)\n",
            "computing similarity matrix row 7/37 (Henry6Part1.txt)\n",
            "Closest files so far, with distance of 0.695664 (6, 22): Henry6Part1.txt and Richard2.txt\n",
            "computing similarity matrix row 8/37 (Henry6Part2.txt)\n",
            "Closest files so far, with distance of 0.693913 (7, 8): Henry6Part2.txt and Henry6Part3.txt\n",
            "computing similarity matrix row 9/37 (Henry6Part3.txt)\n",
            "computing similarity matrix row 10/37 (Henry8.txt)\n",
            "computing similarity matrix row 11/37 (JuliusCaesar.txt)\n",
            "computing similarity matrix row 12/37 (KingJohn.txt)\n",
            "computing similarity matrix row 13/37 (KingLear.txt)\n",
            "computing similarity matrix row 14/37 (LoveLabors.txt)\n",
            "computing similarity matrix row 15/37 (Macbeth.txt)\n",
            "computing similarity matrix row 16/37 (Measure4Measure.txt)\n",
            "computing similarity matrix row 17/37 (MerchantOfVenice.txt)\n",
            "computing similarity matrix row 18/37 (MerryWives.txt)\n",
            "computing similarity matrix row 19/37 (MidsummerNights.txt)\n",
            "computing similarity matrix row 20/37 (MuchAdo.txt)\n",
            "computing similarity matrix row 21/37 (Othello.txt)\n",
            "computing similarity matrix row 22/37 (Pericles.txt)\n",
            "computing similarity matrix row 23/37 (Richard2.txt)\n",
            "computing similarity matrix row 24/37 (Richard3.txt)\n",
            "computing similarity matrix row 25/37 (TamingShrew.txt)\n",
            "computing similarity matrix row 26/37 (Tempest.txt)\n",
            "computing similarity matrix row 27/37 (Timon.txt)\n",
            "computing similarity matrix row 28/37 (TitusAndronicus.txt)\n",
            "computing similarity matrix row 29/37 (TwelfthNight.txt)\n",
            "computing similarity matrix row 30/37 (WinterTale.txt)\n",
            "computing similarity matrix row 31/37 (AllsWell.txt)\n",
            "computing similarity matrix row 32/37 (TroiluisCressida.txt)\n",
            "computing similarity matrix row 33/37 (AnthonyAndCleo.txt)\n",
            "computing similarity matrix row 34/37 (Hamlet.txt)\n",
            "computing similarity matrix row 35/37 (TwoGentlemenVerona.txt)\n",
            "computing similarity matrix row 36/37 (Henry5.txt)\n"
          ],
          "name": "stdout"
        }
      ]
    },
    {
      "cell_type": "code",
      "metadata": {
        "id": "kU-7vDipZNTi",
        "colab_type": "code",
        "colab": {
          "base_uri": "https://localhost:8080/",
          "height": 34
        },
        "outputId": "895a2348-d0bd-49ab-d6ad-ee301107982e"
      },
      "source": [
        "print(\"According to LZJD, the two closest plays are (%d, %d): %s and %s, with a distance of %f\" \n",
        "      % (ishort, jshort, f1, f2, shortestD))"
      ],
      "execution_count": 18,
      "outputs": [
        {
          "output_type": "stream",
          "text": [
            "According to LZJD, the two closest plays are (7, 8): Henry6Part2.txt and Henry6Part3.txt, with a distance of 0.693913\n"
          ],
          "name": "stdout"
        }
      ]
    }
  ]
}